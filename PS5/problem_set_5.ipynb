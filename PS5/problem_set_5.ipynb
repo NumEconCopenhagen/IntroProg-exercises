{
 "cells": [
  {
   "cell_type": "markdown",
   "metadata": {},
   "source": [
    "# Problem set 5: Writing your own algorithms"
   ]
  },
  {
   "cell_type": "markdown",
   "metadata": {},
   "source": [
    "This problem set has no tasks, but only problems of increasing complexity. See how far you can get :)"
   ]
  },
  {
   "cell_type": "code",
   "execution_count": 13,
   "metadata": {},
   "outputs": [],
   "source": [
    "import math"
   ]
  },
  {
   "cell_type": "markdown",
   "metadata": {},
   "source": [
    "# Factorial"
   ]
  },
  {
   "cell_type": "markdown",
   "metadata": {},
   "source": [
    "Remember that the factorial of $n$ is\n",
    "\n",
    "$$\n",
    "n\\cdot(n-1)\\cdot(n-2)\\cdot...\\cdot 1\n",
    "$$\n",
    "\n",
    "**Problem:** Correct the following function so that it returns the factorial of n using *functional recursion*."
   ]
  },
  {
   "cell_type": "code",
   "execution_count": 14,
   "metadata": {},
   "outputs": [
    {
     "name": "stdout",
     "output_type": "stream",
     "text": [
      "24\n"
     ]
    }
   ],
   "source": [
    "def factorial(n):\n",
    "    if n == 1:\n",
    "        return 1\n",
    "    else:\n",
    "        return n*factorial(n-1)\n",
    "    \n",
    "print(factorial(4))"
   ]
  },
  {
   "cell_type": "markdown",
   "metadata": {},
   "source": [
    "**Answer:** see A1.py"
   ]
  },
  {
   "cell_type": "markdown",
   "metadata": {},
   "source": [
    "# Descending bubble sort"
   ]
  },
  {
   "cell_type": "markdown",
   "metadata": {},
   "source": [
    "**Problem:** Sort a list of numbers in-place descending (from high to low).\n",
    "\n",
    "**Inputs:** List of numbers.\n",
    "\n",
    "**Outputs:** None.\n",
    "\n",
    "**Algorithm:** "
   ]
  },
  {
   "cell_type": "code",
   "execution_count": 15,
   "metadata": {},
   "outputs": [
    {
     "name": "stdout",
     "output_type": "stream",
     "text": [
      "sorted [93, 77, 55, 54, 44, 31, 26, 20, 17]\n"
     ]
    }
   ],
   "source": [
    "def swap(L,i,j):\n",
    "    temp = L[i] # save value in place holder variable\n",
    "    L[i] = L[j] # overwrite value at i with value at j\n",
    "    L[j] = temp # write original value at i to value at j\n",
    "\n",
    "L = [54, 26, 93, 17, 77, 31, 44, 55, 20] # test list\n",
    "\n",
    "# write your code here (hint: use the bubble_sort() algorithm from the lectures)\n",
    "def bubble_sort(L):\n",
    "    n = len(L)\n",
    "\n",
    "    for k in range(n-1, 0, -1):\n",
    "        for i in range(k):\n",
    "            if L[i]<L[i+1]:\n",
    "                swap(L,i,i+1)\n",
    "\n",
    "bubble_sort(L)\n",
    "print('sorted',L)"
   ]
  },
  {
   "cell_type": "markdown",
   "metadata": {},
   "source": [
    "**Answer:** see A2.py"
   ]
  },
  {
   "cell_type": "markdown",
   "metadata": {},
   "source": [
    "# Linear search for index"
   ]
  },
  {
   "cell_type": "markdown",
   "metadata": {},
   "source": [
    "**Problem:** Consider a number `x` and a sorted list of numbers `L`. Assume `L[0] <= x < L[-1]`. Find the index `i` such that `L[i] <= x < L[i+1]` using a linear search.\n",
    "\n",
    "**Inputs:** A sorted list of numbers `L` and a number `x`.\n",
    "    \n",
    "**Outputs:** Integer."
   ]
  },
  {
   "cell_type": "code",
   "execution_count": 16,
   "metadata": {},
   "outputs": [],
   "source": [
    "L = [0, 1, 2, 8, 13, 17, 19, 32, 42] # test list\n",
    "\n",
    "# write your code here (hint: use the linear_seach() algorithm from the lecture)\n",
    "def linear_search(L,x):\n",
    "    i = 0\n",
    "    n = len(L)\n",
    "    found = False\n",
    "\n",
    "    while i < n-1 and not found:\n",
    "        if x >= L[i] and x < L[i+1]:\n",
    "            found = True\n",
    "        else:\n",
    "            i += 1\n",
    "    return i"
   ]
  },
  {
   "cell_type": "code",
   "execution_count": 17,
   "metadata": {},
   "outputs": [
    {
     "name": "stdout",
     "output_type": "stream",
     "text": [
      "3 gives the index 2\n",
      "7 gives the index 2\n",
      "13 gives the index 4\n",
      "18 gives the index 5\n",
      "32 gives the index 7\n"
     ]
    }
   ],
   "source": [
    "# test your function\n",
    "for x in [3,7,13,18,32]:\n",
    "    i = linear_search(L,x)\n",
    "    print(f'{x} gives the index {i}')\n",
    "    assert(x >= L[i] and x < L[i+1]),(x,i,L[i])"
   ]
  },
  {
   "cell_type": "markdown",
   "metadata": {},
   "source": [
    "**Answer:** see A3.py"
   ]
  },
  {
   "cell_type": "markdown",
   "metadata": {},
   "source": [
    "# Bisection"
   ]
  },
  {
   "cell_type": "markdown",
   "metadata": {},
   "source": [
    "**Problem:** Find an (apporximate) solution to $f(x) = 0$ in the interval $[a,b]$ where $f(a)f(b) < 0$ (i.e. one is positive and the other is negative). \n",
    "\n",
    "> If $f$ is a *continuous* function then the intermediate value theorem ensures that a solution exists.\n",
    "\n",
    "**Inputs:** Function $f$, float interval $[a,b]$, float tolerance $\\epsilon > 0$.\n",
    "\n",
    "**Outputs:** Float.\n",
    "\n",
    "**Algorithm:** `bisection()`\n",
    "\n",
    "1. Set $a_0 = a$ and $b_0 = b$.\n",
    "\n",
    "2. Compute $f(m_0)$ where $m_0 = (a_0 + b_0)/2$ is the midpoint\n",
    "\n",
    "3. Determine the next sub-interval $[a_1,b_1]$:\n",
    "\n",
    "  i. If $f(a_0)f(m_0) < 0$ then $a_1 = a_0$ and $b_1 = m_0$\n",
    "\n",
    "  ii. If $f(m_0)f(b_0) < 0$ then $a_1 = m_0$ and $b_1 = b_0$\n",
    "\n",
    "4. Repeat step 2 and step 3 until $|f(m_n)| < \\epsilon$"
   ]
  },
  {
   "cell_type": "code",
   "execution_count": 18,
   "metadata": {},
   "outputs": [
    {
     "name": "stdout",
     "output_type": "stream",
     "text": [
      "0.8095238097012043\n"
     ]
    }
   ],
   "source": [
    "f = lambda x: (2.1*x-1.7)*(x-3.3) # test function\n",
    "\n",
    "def bisection(f,a,b,tau):\n",
    "    if f(a)*f(b) >= 0:\n",
    "        print(\"bisection method fails.\")\n",
    "        return None\n",
    "\n",
    "    a_n = a\n",
    "    b_n = b\n",
    "\n",
    "    while True:\n",
    "        m_n = (a_n + b_n)/2\n",
    "        f_m_0 = f(m_n)\n",
    "\n",
    "        if abs(f_m_0) < tau:\n",
    "            return m_n\n",
    "\n",
    "        elif f(a_n)*f_m_0 < 0:\n",
    "            a_n = a_n\n",
    "            b_n = m_n\n",
    "\n",
    "        elif f_m_0*f(b_n) < 0:\n",
    "            a_n = m_n\n",
    "            b_n = b_n\n",
    "            \n",
    "        else:\n",
    "            print('Bisection method fails')\n",
    "            return None\n",
    "    \n",
    "    return (a_n + b_n)/2\n",
    "\n",
    "\n",
    "result = bisection(f,0,1,1e-8)\n",
    "print(result)"
   ]
  },
  {
   "cell_type": "markdown",
   "metadata": {},
   "source": [
    "**Answer:** see A4.py"
   ]
  },
  {
   "cell_type": "markdown",
   "metadata": {},
   "source": [
    "# Find prime numbers (hard)"
   ]
  },
  {
   "attachments": {},
   "cell_type": "markdown",
   "metadata": {},
   "source": [
    "**Goal:** Implement a function in Python for the sieve of Eratosthenes.\n",
    "\n",
    "The **sieve of Eratosthenes** is a simple algorithm for finding all prime numbers up to a specified integer. It was created by the ancient Greek mathematician Eratosthenes. The algorithm to find all the prime numbers less than or equal to a given integer $n$.\n",
    "\n",
    "**Algorithm:** `sieve_()`\n",
    "\n",
    "1. Create a list of integers from $2$ to $n$: $2, 3, 4, ..., n$ (all potentially primes)\n",
    "\n",
    "    `primes = list(range(2,n+1))`\n",
    "\n",
    "2. Start with a counter $i$ set to $2$, i.e. the first prime number\n",
    "\n",
    "3. Starting from $i+i$, count up by $i$ and remove those numbers from the list, i.e. $2i$, $3i$, $4i$ etc.\n",
    "\n",
    "    `primes.remove(i)`\n",
    "    \n",
    "4. Find the first number of the list following $i$. This is the next prime number.\n",
    "\n",
    "5. Set $i$ to the number found in the previous step.\n",
    "\n",
    "6. Repeat steps 3-5 until $i$ is greater than $\\sqrt {n}$.\n",
    "7. All the numbers, which are still in the list, are prime numbers."
   ]
  },
  {
   "cell_type": "markdown",
   "metadata": {},
   "source": [
    "**A more detailed explanation:** See this [video](https://www.youtube.com/watch?v=klcIklsWzrY&feature=youtu.be)"
   ]
  },
  {
   "cell_type": "code",
   "execution_count": 58,
   "metadata": {},
   "outputs": [
    {
     "name": "stdout",
     "output_type": "stream",
     "text": [
      "primes from 2 to 100: [2, 3, 5, 7, 11, 13, 17, 19, 23, 29, 31, 37, 41, 43, 47, 53, 59, 61, 67, 71, 73, 79, 83, 89, 97]\n"
     ]
    }
   ],
   "source": [
    "def sieve(n):\n",
    "\n",
    "    primes = list(range(2, n + 1))\n",
    "\n",
    "    index = 0\n",
    "    i = primes[index]\n",
    "\n",
    "    while i < math.sqrt(n):\n",
    "        \n",
    "        k = i\n",
    "        while i <= n:\n",
    "            i += k\n",
    "            if i in primes:\n",
    "                primes.remove(i)\n",
    "\n",
    "        index += 1\n",
    "        i = primes[index]\n",
    "\n",
    "    return primes\n",
    "\n",
    "print('primes from 2 to 100:',sieve(100))\n",
    "\n",
    "\n"
   ]
  },
  {
   "cell_type": "markdown",
   "metadata": {},
   "source": [
    "**Answer:** see A5.py"
   ]
  },
  {
   "cell_type": "code",
   "execution_count": null,
   "metadata": {},
   "outputs": [
    {
     "name": "stdout",
     "output_type": "stream",
     "text": [
      "[2, 3, 5, 7, 11, 13, 17, 19, 23, 29, 31, 37, 41, 43, 47, 53, 59, 61, 67, 71, 73, 79, 83, 89, 97]\n"
     ]
    }
   ],
   "source": [
    "def sieve_of_eratosthenes(n):\n",
    "    # assuming all numbers are primes\n",
    "    primes = [True] * (n + 1)\n",
    "\n",
    "    # these are definitly not primes\n",
    "    primes[0] = False\n",
    "    primes[1] = False\n",
    "\n",
    "    # first prime number\n",
    "    p = 2\n",
    "\n",
    "    # while p^2 is less or equal to n <=> while p is less or equal to sqrt(n)\n",
    "    while p*p <= n:\n",
    "        # primes[p] is True for 2, and then 3, but not 4 etc. \n",
    "        if primes[p] == True:\n",
    "            # set all multiples to False\n",
    "            for i in range(p*p, n + 1, p):\n",
    "                primes[i] = False\n",
    "        # next prime number\n",
    "        p += 1 \n",
    "    \n",
    "    # go through list but only return values which are True\n",
    "    return [i for i in range(n + 1) if primes[i] == True]\n",
    "\n",
    "print(sieve_of_eratosthenes(100))\n"
   ]
  },
  {
   "cell_type": "markdown",
   "metadata": {},
   "source": [
    "# More Problems"
   ]
  },
  {
   "cell_type": "markdown",
   "metadata": {},
   "source": [
    "See [Project Euler](https://projecteuler.net/about)."
   ]
  }
 ],
 "metadata": {
  "kernelspec": {
   "display_name": "Python 3 (ipykernel)",
   "language": "python",
   "name": "python3"
  },
  "language_info": {
   "codemirror_mode": {
    "name": "ipython",
    "version": 3
   },
   "file_extension": ".py",
   "mimetype": "text/x-python",
   "name": "python",
   "nbconvert_exporter": "python",
   "pygments_lexer": "ipython3",
   "version": "3.9.16"
  },
  "toc-autonumbering": true
 },
 "nbformat": 4,
 "nbformat_minor": 4
}
