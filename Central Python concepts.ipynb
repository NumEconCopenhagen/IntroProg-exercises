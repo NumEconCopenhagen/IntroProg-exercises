{
 "cells": [
  {
   "cell_type": "markdown",
   "metadata": {},
   "source": [
    "# Some central Python concepts"
   ]
  },
  {
   "cell_type": "markdown",
   "metadata": {},
   "source": [
    "**Table of contents**<a id='toc0_'></a>    \n",
    "- 1. [Imports](#toc1_)    \n",
    "- 2. [References](#toc2_)    \n",
    "- 3. [Mutables and in-place operations](#toc3_)    \n",
    "- 4. [Functions - scope and side-effects](#toc4_)    \n",
    "- 5. [Looping](#toc5_)    \n",
    "- 6. [Floating point arithmetics](#toc6_)    \n",
    "- 7. [Random numbers](#toc7_)    \n",
    "- 8. [Classes](#toc8_)    \n",
    "  - 8.1. [Operators](#toc8_1_)    \n",
    "  - 8.2. [MyList](#toc8_2_)    \n",
    "\n",
    "<!-- vscode-jupyter-toc-config\n",
    "\tnumbering=true\n",
    "\tanchor=true\n",
    "\tflat=false\n",
    "\tminLevel=2\n",
    "\tmaxLevel=6\n",
    "\t/vscode-jupyter-toc-config -->\n",
    "<!-- THIS CELL WILL BE REPLACED ON TOC UPDATE. DO NOT WRITE YOUR TEXT IN THIS CELL -->"
   ]
  },
  {
   "cell_type": "markdown",
   "metadata": {},
   "source": [
    "## 1. <a id='toc1_'></a>[Imports](#toc0_)"
   ]
  },
  {
   "cell_type": "code",
   "execution_count": 1,
   "metadata": {},
   "outputs": [],
   "source": [
    "import numpy as np"
   ]
  },
  {
   "cell_type": "markdown",
   "metadata": {},
   "source": [
    "## 2. <a id='toc2_'></a>[References](#toc0_)"
   ]
  },
  {
   "cell_type": "code",
   "execution_count": 2,
   "metadata": {},
   "outputs": [
    {
     "name": "stdout",
     "output_type": "stream",
     "text": [
      "a = array([3, 3, 3])\n"
     ]
    }
   ],
   "source": [
    "a = np.array([1,2,3]) # creates a new array -> stores reference to it\n",
    "b = a # copy the reference\n",
    "c = a[1:] # slice -> new reference to sub-array\n",
    "b[0] = 3 # set element with index \n",
    "c[0] = 3\n",
    "print(f'{a = }')"
   ]
  },
  {
   "cell_type": "markdown",
   "metadata": {},
   "source": [
    "With a `list`, a slice creates a copy:"
   ]
  },
  {
   "cell_type": "code",
   "execution_count": 3,
   "metadata": {},
   "outputs": [
    {
     "name": "stdout",
     "output_type": "stream",
     "text": [
      "a = [3, 2, 3]\n",
      "c = [3, 3]\n"
     ]
    }
   ],
   "source": [
    "a = [1,2,3]\n",
    "b = a\n",
    "c = a[1:]\n",
    "b[0] = 3\n",
    "c[0] = 3\n",
    "print(f'{a = }')\n",
    "print(f'{c = }')"
   ]
  },
  {
   "cell_type": "markdown",
   "metadata": {},
   "source": [
    "## 3. <a id='toc3_'></a>[Mutables and in-place operations](#toc0_)"
   ]
  },
  {
   "cell_type": "code",
   "execution_count": 4,
   "metadata": {},
   "outputs": [
    {
     "name": "stdout",
     "output_type": "stream",
     "text": [
      "y = array([3, 4, 5])\n",
      "x = array([4, 5, 6])\n"
     ]
    }
   ],
   "source": [
    "x = np.array([1,2,3])\n",
    "y = x\n",
    "x += 1 # 2,3,4\n",
    "x[:] = x + 1 # 3,4,5\n",
    "x = x + 1 # 4,5,6 ?\n",
    "print(f'{y = }')\n",
    "print(f'{x = }')"
   ]
  },
  {
   "cell_type": "markdown",
   "metadata": {},
   "source": [
    "## 4. <a id='toc4_'></a>[Functions - scope and side-effects](#toc0_)"
   ]
  },
  {
   "cell_type": "code",
   "execution_count": 5,
   "metadata": {},
   "outputs": [
    {
     "name": "stdout",
     "output_type": "stream",
     "text": [
      "f(1) = 2\n",
      "f(1) = 3\n"
     ]
    }
   ],
   "source": [
    "a = 1\n",
    "\n",
    "def f(x):\n",
    "\treturn x+a\n",
    "\n",
    "print(f'{f(1) = }')\n",
    "a = 2\n",
    "print(f'{f(1) = }') # same line new output"
   ]
  },
  {
   "cell_type": "code",
   "execution_count": 6,
   "metadata": {},
   "outputs": [
    {
     "name": "stdout",
     "output_type": "stream",
     "text": [
      "f(1,a) = 2\n",
      "f(1,a) = 3\n"
     ]
    }
   ],
   "source": [
    "a = np.array([1])\n",
    "\n",
    "def f(x,a):\n",
    "\ty = x+a[0]\n",
    "\ta += 1 # side-effect\n",
    "\treturn y\n",
    "\n",
    "print(f'{f(1,a) = }')\n",
    "print(f'{f(1,a) = }') # same line new output"
   ]
  },
  {
   "cell_type": "markdown",
   "metadata": {},
   "source": [
    "## 5. <a id='toc5_'></a>[Looping](#toc0_)"
   ]
  },
  {
   "cell_type": "code",
   "execution_count": 7,
   "metadata": {},
   "outputs": [],
   "source": [
    "evaluate = lambda x: np.nan\n",
    "check = lambda x: False\n",
    "update = lambda x,y: np.nan "
   ]
  },
  {
   "cell_type": "code",
   "execution_count": 8,
   "metadata": {},
   "outputs": [],
   "source": [
    "n = 10\n",
    "x0 = np.nan"
   ]
  },
  {
   "cell_type": "code",
   "execution_count": 9,
   "metadata": {},
   "outputs": [
    {
     "name": "stdout",
     "output_type": "stream",
     "text": [
      "did not converge\n"
     ]
    }
   ],
   "source": [
    "try:\n",
    "\n",
    "    x = x0\n",
    "    for i in range(n):\n",
    "        y = evaluate(x)\n",
    "        if check(y): break\n",
    "        x = update(x,y)\n",
    "    else:\n",
    "        raise ValueError('did not converge')\n",
    "    \n",
    "except ValueError as e:\n",
    "    \n",
    "    print(e)    "
   ]
  },
  {
   "cell_type": "code",
   "execution_count": 10,
   "metadata": {},
   "outputs": [
    {
     "name": "stdout",
     "output_type": "stream",
     "text": [
      "did not converge\n"
     ]
    }
   ],
   "source": [
    "try:\n",
    "\n",
    "    x = x0\n",
    "    i = 0\n",
    "    \n",
    "    while True:\n",
    "\n",
    "        y = evaluate(x)\n",
    "        if check(y): break\n",
    "        x = update(x,y)\n",
    "        i += 1\n",
    "        if i >= n: raise ValueError('did not converge')\n",
    "    \n",
    "except ValueError as e:\n",
    "\n",
    "    print(e)    "
   ]
  },
  {
   "cell_type": "markdown",
   "metadata": {},
   "source": [
    "## 6. <a id='toc6_'></a>[Floating point arithmetics](#toc0_)"
   ]
  },
  {
   "cell_type": "code",
   "execution_count": 11,
   "metadata": {},
   "outputs": [
    {
     "name": "stdout",
     "output_type": "stream",
     "text": [
      "0.1 + 0.2 == 0.3 = False\n",
      "0.5 + 0.5 == 1.0 = True\n",
      "np.isclose(0.1+0.2,0.3) = True\n",
      "np.isclose(1e-200*1e200*1e200*1e-200,1.0) = True\n",
      "np.isinf(1e-200*(1e200*1e200)*1e-200) = True\n",
      "np.isclose(1e200*(1e-200*1e-200)*1e200,0.0) = True\n"
     ]
    }
   ],
   "source": [
    "print(f'{0.1 + 0.2 == 0.3 = }')\n",
    "print(f'{0.5 + 0.5 == 1.0 = }')\n",
    "print(f'{np.isclose(0.1+0.2,0.3) = }')\n",
    "print(f'{np.isclose(1e-200*1e200*1e200*1e-200,1.0) = }')\n",
    "print(f'{np.isinf(1e-200*(1e200*1e200)*1e-200) = }')\n",
    "print(f'{np.isclose(1e200*(1e-200*1e-200)*1e200,0.0) = }')"
   ]
  },
  {
   "cell_type": "markdown",
   "metadata": {},
   "source": [
    "## 7. <a id='toc7_'></a>[Random numbers](#toc0_)"
   ]
  },
  {
   "cell_type": "code",
   "execution_count": 12,
   "metadata": {},
   "outputs": [
    {
     "name": "stdout",
     "output_type": "stream",
     "text": [
      "x = array([-0.98912135, -0.36778665,  1.28792526,  0.19397442,  0.9202309 ])\n",
      "y = array([ 0.57710379, -0.63646365,  0.54195222, -0.31659545, -0.32238912])\n",
      "z = array([-0.98912135, -0.36778665,  1.28792526,  0.19397442,  0.9202309 ])\n"
     ]
    }
   ],
   "source": [
    "rng = np.random.default_rng(123)\n",
    "s = rng.bit_generator.state\n",
    "\n",
    "x = rng.normal(size=5)\n",
    "y = rng.normal(size=5)\n",
    "\n",
    "rng.bit_generator.state = s\n",
    "z = rng.normal(size=5)\n",
    "\n",
    "print(f'{x = }')\n",
    "print(f'{y = }')\n",
    "print(f'{z = }')"
   ]
  },
  {
   "cell_type": "markdown",
   "metadata": {},
   "source": [
    "## 8. <a id='toc8_'></a>[Classes](#toc0_)"
   ]
  },
  {
   "cell_type": "markdown",
   "metadata": {},
   "source": [
    "### 8.1. <a id='toc8_1_'></a>[Operators](#toc0_)"
   ]
  },
  {
   "cell_type": "code",
   "execution_count": 13,
   "metadata": {},
   "outputs": [],
   "source": [
    "class SquareClass:\n",
    "    \n",
    "    def __init__(self,length,width):\n",
    "        \n",
    "        self.length = length\n",
    "        self.width = width\n",
    "\n",
    "    def size(self):\n",
    "\n",
    "        return self.length*self.width\n",
    "    \n",
    "    def __add__(self,other):\n",
    "\n",
    "        return SquareClass(\n",
    "            length=self.length+other.length,\n",
    "            width=self.width+other.width\n",
    "        )\n",
    "    \n",
    "    # def __mul__(self,other):\n",
    "            \n",
    "    #     return SquareClass(\n",
    "    #         length=self.length*other.length,\n",
    "    #         width=self.width*other.width\n",
    "    #     )\n",
    "    \n",
    "    def __str__(self):\n",
    "\n",
    "        return f'length = {self.length}, width = {self.width}: size = {self.size()}'\n"
   ]
  },
  {
   "cell_type": "code",
   "execution_count": 14,
   "metadata": {},
   "outputs": [
    {
     "name": "stdout",
     "output_type": "stream",
     "text": [
      "length = 2, width = 2: size = 4\n"
     ]
    }
   ],
   "source": [
    "square = SquareClass (2,2)\n",
    "print(square)"
   ]
  },
  {
   "cell_type": "code",
   "execution_count": 15,
   "metadata": {},
   "outputs": [
    {
     "name": "stdout",
     "output_type": "stream",
     "text": [
      "length = 5, width = 5: size = 25\n"
     ]
    }
   ],
   "source": [
    "newsquare = square + SquareClass(3,3)\n",
    "print(newsquare)"
   ]
  },
  {
   "cell_type": "code",
   "execution_count": 16,
   "metadata": {},
   "outputs": [
    {
     "name": "stdout",
     "output_type": "stream",
     "text": [
      "unsupported operand type(s) for *: 'SquareClass' and 'SquareClass'\n"
     ]
    }
   ],
   "source": [
    "try:\n",
    "    newsquare = square * SquareClass(3,3)\n",
    "    print(newsquare)\n",
    "except TypeError as e:\n",
    "    print(e)"
   ]
  },
  {
   "cell_type": "markdown",
   "metadata": {},
   "source": [
    "### 8.2. <a id='toc8_2_'></a>[MyList](#toc0_)"
   ]
  },
  {
   "cell_type": "code",
   "execution_count": 17,
   "metadata": {},
   "outputs": [],
   "source": [
    "class MyObject():\n",
    "    \n",
    "    def __init__(self,value):\n",
    "\n",
    "        self.value = value\n",
    "        self.next = None\n",
    "\n",
    "class MyList():\n",
    "\n",
    "    def __init__(self):\n",
    "\n",
    "        self.head = None\n",
    "        self.cur = None\n",
    "\n",
    "    def append(self,value):\n",
    "\n",
    "        if self.head is None:\n",
    "            self.head = self.cur = MyObject(value)\n",
    "        else:\n",
    "            self.cur.next = MyObject(value)\n",
    "            self.cur = self.cur.next\n",
    "\n",
    "    def __getitem__(self,index):\n",
    "\n",
    "        cur = self.head\n",
    "        for _ in range(index):\n",
    "            cur = cur.next\n",
    "\n",
    "        return cur\n",
    "\n",
    "    def __iter__(self):\n",
    "\n",
    "        self.cur = self.head\n",
    "        return self\n",
    "\n",
    "    def __next__(self):\n",
    "\n",
    "        if self.cur is None: raise StopIteration\n",
    "\n",
    "        cur = self.cur\n",
    "        self.cur = self.cur.next\n",
    "        return cur"
   ]
  },
  {
   "cell_type": "code",
   "execution_count": 18,
   "metadata": {},
   "outputs": [
    {
     "name": "stdout",
     "output_type": "stream",
     "text": [
      "indexing:\n",
      "x[2].value = 'c'\n",
      "\n",
      "iteration:\n",
      "x[0] = a\n",
      "x[1] = 2\n",
      "x[2] = c\n",
      "x[3] = ('d', 4)\n"
     ]
    }
   ],
   "source": [
    "x = MyList()\n",
    "x.append('a')\n",
    "x.append(2)\n",
    "x.append('c')\n",
    "x.append(('d',4))\n",
    "\n",
    "print('indexing:')\n",
    "print(f'{x[2].value = }')\n",
    "print('')\n",
    "print('iteration:')\n",
    "for i,obj in enumerate(x):\n",
    "    print(f'x[{i}] = {obj.value}')"
   ]
  }
 ],
 "metadata": {
  "kernelspec": {
   "display_name": "base",
   "language": "python",
   "name": "python3"
  },
  "language_info": {
   "codemirror_mode": {
    "name": "ipython",
    "version": 3
   },
   "file_extension": ".py",
   "mimetype": "text/x-python",
   "name": "python",
   "nbconvert_exporter": "python",
   "pygments_lexer": "ipython3",
   "version": "3.11.5"
  }
 },
 "nbformat": 4,
 "nbformat_minor": 2
}
