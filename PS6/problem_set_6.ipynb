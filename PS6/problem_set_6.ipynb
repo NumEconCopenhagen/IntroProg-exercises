{
 "cells": [
  {
   "cell_type": "markdown",
   "metadata": {},
   "source": [
    "# Problem set 6: Solving the Solow model"
   ]
  },
  {
   "cell_type": "code",
   "execution_count": 1,
   "metadata": {},
   "outputs": [],
   "source": [
    "import numpy as np\n",
    "from scipy import linalg\n",
    "from scipy import optimize\n",
    "import sympy as sm"
   ]
  },
  {
   "cell_type": "markdown",
   "metadata": {},
   "source": [
    "# Tasks"
   ]
  },
  {
   "cell_type": "markdown",
   "metadata": {},
   "source": [
    "## Solving matrix equations I"
   ]
  },
  {
   "cell_type": "code",
   "execution_count": 2,
   "metadata": {},
   "outputs": [],
   "source": [
    "np.random.seed(1900)\n",
    "n = 5\n",
    "A = np.random.uniform(size=(n,n))\n",
    "b = np.random.uniform(size=n)\n",
    "c = np.random.uniform(size=n)\n",
    "d = np.random.uniform(size=n)"
   ]
  },
  {
   "cell_type": "markdown",
   "metadata": {},
   "source": [
    "**Question A:** Find the determinant of $[A \\cdot A]^{-1}$"
   ]
  },
  {
   "cell_type": "code",
   "execution_count": 3,
   "metadata": {},
   "outputs": [],
   "source": [
    "# write your code here"
   ]
  },
  {
   "cell_type": "markdown",
   "metadata": {},
   "source": [
    "**Answer:** see A1.py"
   ]
  },
  {
   "cell_type": "markdown",
   "metadata": {},
   "source": [
    "**Question B:** Solve the following equation systems directly using **scipy**.\n",
    "\n",
    "$$\n",
    "\\begin{aligned}\n",
    "Ax &= b \\\\\n",
    "Ax &= c \\\\\n",
    "Ax &= d \n",
    "\\end{aligned}\n",
    "$$"
   ]
  },
  {
   "cell_type": "markdown",
   "metadata": {},
   "source": [
    "**Answer:** A2.py"
   ]
  },
  {
   "cell_type": "markdown",
   "metadata": {},
   "source": [
    "**Question C:** Solve the same equation systems as above using `linalg.lu_factor()` and `linalg.lu_solve()`. What is the benefit of this approach?"
   ]
  },
  {
   "cell_type": "markdown",
   "metadata": {},
   "source": [
    "**Answer:** A3.py"
   ]
  },
  {
   "cell_type": "markdown",
   "metadata": {},
   "source": [
    "## Solving matrix equations II"
   ]
  },
  {
   "cell_type": "code",
   "execution_count": 7,
   "metadata": {},
   "outputs": [],
   "source": [
    "F = np.array([[2.0, 1.0, -1.0], [-3.0, -1.0, 2], [-2.0, 1.0, 2.0]])\n",
    "e = np.array([8.0, -11.0, -3.0])"
   ]
  },
  {
   "cell_type": "markdown",
   "metadata": {},
   "source": [
    "**Question:** Use the function `gauss_jordan()` in the `numecon_linalg` module located in this folder to solve\n",
    "\n",
    "$$\n",
    "Fx = e\n",
    "$$"
   ]
  },
  {
   "cell_type": "code",
   "execution_count": 8,
   "metadata": {},
   "outputs": [],
   "source": [
    "# write your code here"
   ]
  },
  {
   "cell_type": "markdown",
   "metadata": {},
   "source": [
    "**Answer:** see A4.py"
   ]
  },
  {
   "cell_type": "markdown",
   "metadata": {},
   "source": [
    "## Symbolic"
   ]
  },
  {
   "cell_type": "markdown",
   "metadata": {},
   "source": [
    "**Question A:** Find\n",
    "\n",
    "$$\n",
    "\\lim_{x \\rightarrow 0} \\frac{\\sin(x)}{x}\n",
    "$$\n",
    "\n",
    "and\n",
    "\n",
    "$$\n",
    "\\frac{\\partial\\sin(2x)}{\\partial x} \n",
    "$$"
   ]
  },
  {
   "cell_type": "code",
   "execution_count": 10,
   "metadata": {},
   "outputs": [],
   "source": [
    "# write your code here"
   ]
  },
  {
   "cell_type": "markdown",
   "metadata": {},
   "source": [
    "**Answer:** A5.py"
   ]
  },
  {
   "cell_type": "markdown",
   "metadata": {},
   "source": [
    "**Question B:** Solve the equation\n",
    "\n",
    "$$ \n",
    "\\frac{\\sin(x)}{x} = 0\n",
    "$$"
   ]
  },
  {
   "cell_type": "code",
   "execution_count": 13,
   "metadata": {},
   "outputs": [],
   "source": [
    "# write your code here"
   ]
  },
  {
   "cell_type": "markdown",
   "metadata": {},
   "source": [
    "**Answer:** A6.py"
   ]
  },
  {
   "cell_type": "markdown",
   "metadata": {},
   "source": [
    "# Problem: Solve the Solow model"
   ]
  },
  {
   "cell_type": "markdown",
   "metadata": {},
   "source": [
    "## Introduction"
   ]
  },
  {
   "cell_type": "markdown",
   "metadata": {},
   "source": [
    "Consider the **standard Solow-model** where:\n",
    "\n",
    "1. $K_t$ is capital\n",
    "2. $L_t$ is labor (growing with a constant rate of $n$)\n",
    "3. $A_t$ is technology (growing with a constant rate of $g$)\n",
    "4. $Y_t = F(K_t,A_tL_t)$ is GDP\n",
    "\n",
    "**Saving** is a constant fraction of GDP\n",
    "\n",
    "$$ \n",
    "S_t = sY_t,\\,s\\in(0,1)\n",
    "$$\n",
    "\n",
    "such that **capital accumulates** according to\n",
    "\n",
    "$$\n",
    "K_{t+1}=S_{t}+(1-\\delta)K_{t}=sF(K_{t},A_{t}L_{t})+(1-\\delta)K_{t}, \\delta \\in (0,1)\n",
    "$$\n",
    "\n",
    "The **production function** has **constant-return to scale** such that\n",
    "\n",
    "$$\n",
    "\\frac{Y_{t}}{A_{t}L_{t}}=\\frac{F(K_{t},A_{t}L_{t})}{A_{t}L_{t}}=F(\\tilde{k}_{t},1)\\equiv f(\\tilde{k}_{t})\n",
    "$$\n",
    "\n",
    "where $\\tilde{k}_t = \\frac{K_t}{A_{t}L_{t}}$ is the technology adjusted capital-labor ratio.\n",
    "\n",
    "The **transition equation** then becomes\n",
    "\n",
    "$$\n",
    "\\tilde{k}_{t+1}= \\frac{1}{(1+n)(1+g)}[sf(\\tilde{k}_{t})+(1-\\delta)\\tilde{k}_{t}]\n",
    "$$\n",
    "\n",
    "If the **production function** is **Cobb-Douglas** then\n",
    "\n",
    "$$\n",
    "F(K_{t},A_{t}L_{t})=K_{t}^{\\alpha}(A_{t}L_{t})^{1-\\alpha}\\Rightarrow f(\\tilde{k}_{t})=\\tilde{k}_{t}^{\\alpha}\n",
    "$$\n",
    "\n",
    "If it is **CES** (with $\\beta < 1, \\beta \\neq 0$) then\n",
    "\n",
    "$$\n",
    "F(K_{t},A_{t}L_{t})=(\\alpha K_{t}^{\\beta}+(1-\\alpha)(A_{t}L_{t})^{\\beta})^{\\frac{1}{\\beta}}\\Rightarrow f(\\tilde{k}_{t})=(\\alpha\\tilde{k}_{t}^{\\beta}+(1-\\alpha))^{\\frac{1}{\\beta}}\n",
    "$$"
   ]
  },
  {
   "cell_type": "markdown",
   "metadata": {},
   "source": [
    "## Steady state"
   ]
  },
  {
   "cell_type": "markdown",
   "metadata": {},
   "source": [
    "Assume the production function is **Cobb-Douglas**."
   ]
  },
  {
   "cell_type": "markdown",
   "metadata": {},
   "source": [
    "**Question A:** Use **sympy** to find an analytical expression for the steady state, i.e. solve\n",
    "\n",
    "$$\n",
    "\\tilde{k}^{\\ast}= \\frac{1}{(1+n)(1+g)}[sf(\\tilde{k}^{\\ast})+(1-\\delta)\\tilde{k}^{\\ast}]\n",
    "$$"
   ]
  },
  {
   "cell_type": "code",
   "execution_count": 15,
   "metadata": {},
   "outputs": [],
   "source": [
    "k = sm.symbols('k')\n",
    "alpha = sm.symbols('alpha')\n",
    "delta = sm.symbols('delta')\n",
    "s = sm.symbols('s')\n",
    "g = sm.symbols('g')\n",
    "n = sm.symbols('n')"
   ]
  },
  {
   "cell_type": "code",
   "execution_count": 16,
   "metadata": {},
   "outputs": [],
   "source": [
    "# write your code here"
   ]
  },
  {
   "cell_type": "markdown",
   "metadata": {},
   "source": [
    "**Answer:** see A7.py"
   ]
  },
  {
   "cell_type": "markdown",
   "metadata": {},
   "source": [
    "**Question B:** Turn you solution into a Python function called as `ss_func(s,g,n,delta,alpha)`. "
   ]
  },
  {
   "cell_type": "code",
   "execution_count": 18,
   "metadata": {},
   "outputs": [],
   "source": [
    "# write your code here"
   ]
  },
  {
   "cell_type": "markdown",
   "metadata": {},
   "source": [
    "**Answer:** A8.py"
   ]
  },
  {
   "cell_type": "markdown",
   "metadata": {},
   "source": [
    "**Question C**: Find the steady state numerically using root-finding with `optimize.root_scalar`."
   ]
  },
  {
   "cell_type": "code",
   "execution_count": 21,
   "metadata": {},
   "outputs": [],
   "source": [
    "s = 0.2\n",
    "g = 0.02\n",
    "n = 0.01\n",
    "alpha = 1/3\n",
    "delta = 0.1\n",
    "\n",
    "# write your code here"
   ]
  },
  {
   "cell_type": "markdown",
   "metadata": {},
   "source": [
    "**Answer:** A9.py"
   ]
  },
  {
   "cell_type": "markdown",
   "metadata": {},
   "source": [
    "**Question D:** Now assume the production function is CES. Find the steady state for $k$ for the various values of $\\beta$ shown below."
   ]
  },
  {
   "cell_type": "code",
   "execution_count": 23,
   "metadata": {},
   "outputs": [],
   "source": [
    "betas = [-0.5,-0.25,-0.1,-0.05,0.05,0.1,0.25,0.5]\n",
    "\n",
    "# write your code here"
   ]
  },
  {
   "cell_type": "markdown",
   "metadata": {
    "tags": []
   },
   "source": [
    "**Answer:** A10.py   "
   ]
  }
 ],
 "metadata": {
  "kernelspec": {
   "display_name": "Python 3 (ipykernel)",
   "language": "python",
   "name": "python3"
  },
  "language_info": {
   "codemirror_mode": {
    "name": "ipython",
    "version": 3
   },
   "file_extension": ".py",
   "mimetype": "text/x-python",
   "name": "python",
   "nbconvert_exporter": "python",
   "pygments_lexer": "ipython3",
   "version": "3.9.10"
  },
  "toc-autonumbering": true
 },
 "nbformat": 4,
 "nbformat_minor": 4
}
